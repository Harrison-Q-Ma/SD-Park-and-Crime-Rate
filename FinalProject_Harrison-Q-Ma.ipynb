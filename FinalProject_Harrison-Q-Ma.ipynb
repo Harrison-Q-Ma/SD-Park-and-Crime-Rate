{
 "cells": [
  {
   "cell_type": "markdown",
   "metadata": {},
   "source": [
    "# COGS 108 - Final Project "
   ]
  },
  {
   "cell_type": "markdown",
   "metadata": {},
   "source": [
    "# Overview"
   ]
  },
  {
   "cell_type": "markdown",
   "metadata": {},
   "source": [
    "In this project, I explored the relationship between the crime rate in the surrounding area of a park or recreational area in San Diego and the Yelp review (1-5 stars) it received. I used the Priority E and Priority 1 police responses as a proxy to approximate the crime rate in that area. My analysis found no statistically significant correlationg between the dependent and independent variables and conclude that San Diego parks located in areas with lower crime rate do not necessarily receive better reviews on Yelp. "
   ]
  },
  {
   "cell_type": "markdown",
   "metadata": {},
   "source": [
    "# Name & GitHub\n",
    "\n",
    "- Name: Qixuan \"Harrison\" Ma\n",
    "- GitHub Username: Harrison-Q-Ma"
   ]
  },
  {
   "cell_type": "markdown",
   "metadata": {},
   "source": [
    "# Research Question"
   ]
  },
  {
   "cell_type": "markdown",
   "metadata": {},
   "source": [
    "Does the crime rate in the surrounding area affect the yelp review for a certain park or recreational area in the San Diego area?"
   ]
  },
  {
   "cell_type": "markdown",
   "metadata": {},
   "source": [
    "## Background and Prior Work"
   ]
  },
  {
   "cell_type": "markdown",
   "metadata": {},
   "source": [
    "A lot of previous work link the availability of parks in the city to the overall crime rate of the city. Studies have found a correlation between the amount of green space in the city to the rate of violent crimes in the city: the more green space, the lower the violent crime rate. CDC also found a correlation between people's behavior in park usage and the types of crimes being committed in the city. However, these studies did not explore the question in more detail. Therefore, in this project, I want to do some more in depth about the effect on parks on the crime rate of its immediate surrounding areas. \n",
    "\n",
    "References:\n",
    "- 1) Effects of Crime Type and Location on Park Use Behavior (CDC) https://www.cdc.gov/pcd/issues/2020/19_0434.htm\n",
    "- 2) The Impact of Green Space on Violent Crime in Urban Environments: An Evidence Synthesis https://www.mdpi.com/journal/ijerph\n",
    "- 3) Safe cities: California, Texas are home to many of towns with lower violent crime rates https://www.usatoday.com/story/money/2019/10/27/crime-rates-lower-in-these-us-safest-cities/40406533/\n",
    "- 4) Can Parks Help Cities Fight Crime? https://theconversation.com/can-parks-help-cities-fight-crime-118322#:~:text=One%202015%20study%20of%20multiple,up%20to%2011%20times%20worse."
   ]
  },
  {
   "cell_type": "markdown",
   "metadata": {},
   "source": [
    "# Hypothesis\n"
   ]
  },
  {
   "cell_type": "markdown",
   "metadata": {},
   "source": [
    "My hypothesis for this is that parks and recreational areas located in the parts of the city with the least crime rates would receive better reviews on Yelp. "
   ]
  },
  {
   "cell_type": "markdown",
   "metadata": {},
   "source": [
    "# Dataset(s)"
   ]
  },
  {
   "cell_type": "markdown",
   "metadata": {},
   "source": [
    "Dataset 1: \n",
    "- Dataset Name: Yelp Data for San Diego Parks (yelp_SD_parks.csv)\n",
    "- Link to the dataset: https://www.yelp.com/\n",
    "- Number of observations: 834\n",
    "- Description: \n",
    "    Dataset 1 contains a list of locations in the San Diego area that is commonly recognized as parks and recreational areas. I will be conduct all further analysis based on the review scores on this list.\n",
    "    \n",
    "Dataset 2: \n",
    "- Dataset Name: Crime Rate in San Diego (pd_calls_for_service_2019.csv)\n",
    "- Link to the dataset: https://data.sandiego.gov/datasets/police-calls-for-service/\n",
    "- Number of observations: 590968\n",
    "- Description: This dataset contains the specific location for each of the calls that the police department received for the year of 2019. I will not be using any data from 2020 due to the year not being over yet and the calls are probably screwed towards focusing more on residential areas due to stay-at-home orders. \n",
    "\n",
    "\n",
    "I will be using Dataset 2 (locations) to calculate a overall \"score\" of each park that comprises of its proximity to the crimes in the area. Then I will compare that score to the reviews these parks received on Yelp and see if they correlate at all. "
   ]
  },
  {
   "cell_type": "markdown",
   "metadata": {},
   "source": [
    "# Setup"
   ]
  },
  {
   "cell_type": "code",
   "execution_count": 1,
   "metadata": {},
   "outputs": [],
   "source": [
    "# importing packages that I will be using\n",
    "import pandas as pd\n",
    "import numpy as np\n",
    "import seaborn as sns\n",
    "import geopandas as gpd\n",
    "from geopandas import GeoDataFrame\n",
    "from geopy.geocoders import Nominatim\n",
    "import requests\n",
    "import math\n",
    "from shapely.geometry import Point\n",
    "import descartes\n",
    "import matplotlib.pyplot as plt\n",
    "import patsy\n",
    "import statsmodels.api as sm"
   ]
  },
  {
   "cell_type": "code",
   "execution_count": 2,
   "metadata": {},
   "outputs": [],
   "source": [
    "plt.rcParams.update({'font.size': 16})"
   ]
  },
  {
   "cell_type": "code",
   "execution_count": 3,
   "metadata": {},
   "outputs": [],
   "source": [
    "# reading the data files into pandas dataframes\n",
    "df_sd_parks_review = pd.read_csv(\"yelp_SD_parks.csv\") # Yelp review for SD parks\n",
    "df_sd_pd_resp = pd.read_csv(\"pd_calls_for_service_2019_datasd.csv\") # Police calls in the year of 2019"
   ]
  },
  {
   "cell_type": "markdown",
   "metadata": {},
   "source": [
    "# Data Cleaning"
   ]
  },
  {
   "cell_type": "markdown",
   "metadata": {},
   "source": [
    "First we deal with the reviews on Yelp. In the follow 2 cell blocks, I will drop the columns and rows that contain information that are not really needed for my analysis or contain outlying information that will skew the data. "
   ]
  },
  {
   "cell_type": "code",
   "execution_count": 4,
   "metadata": {},
   "outputs": [],
   "source": [
    "# I will first drop the columns of phone, id, opening status, and url as they are not related to my analysis\n",
    "df_sd_parks_review = df_sd_parks_review.drop(columns = ['phone', 'id', 'url', 'is_closed'])\n",
    "\n",
    "# I will then drop all observations with review counts that are less than 20, to make sure we don't have outliers due to \n",
    "# limited sample size\n",
    "indexNum = df_sd_parks_review[df_sd_parks_review['review_count'] <= 20].index\n",
    "df_sd_parks_review.drop(indexNum, inplace = True)\n",
    "\n"
   ]
  },
  {
   "cell_type": "code",
   "execution_count": 5,
   "metadata": {},
   "outputs": [],
   "source": [
    "# drop rows with outliers\n",
    "indexNum = df_sd_parks_review[df_sd_parks_review['longitude'] <= -117.5].index\n",
    "df_sd_parks_review.drop(indexNum, inplace = True)\n",
    "\n",
    "indexNum = df_sd_parks_review[df_sd_parks_review['longitude'] >= -110.0].index\n",
    "df_sd_parks_review.drop(indexNum, inplace = True)\n",
    "\n",
    "indexNum = df_sd_parks_review[df_sd_parks_review['latitude'] >= 34].index\n",
    "df_sd_parks_review.drop(indexNum, inplace = True)"
   ]
  },
  {
   "cell_type": "markdown",
   "metadata": {},
   "source": [
    "In the following cell, I will do the following: \n",
    "1. Add new column called address to add later\n",
    "2. Drop columns that I don't need in the police report database\n",
    "3. Because we are using police report as a proxy for crime rate, I want to focus only on the more significant instances, in other words, the higher priority calls. In the police report, Priority 0 (\"E\") calls refer to those that \"involve an imminent threat to life\" and Priority 1 calls refer to those that \"involve serious crimes in progress and those in which there is a threat to life\". I will drop all rows with lower priorities so we don't count a loud party in our calculation of crime rate. \n",
    "4. There are addresses listed in the police report that only contain partial information about the location, which makes it hard to determine the geolocation of it. This will also cause errors in the conversion to geocode, so I will drop these as well. "
   ]
  },
  {
   "cell_type": "code",
   "execution_count": 6,
   "metadata": {},
   "outputs": [],
   "source": [
    "# add new column called address to add later\n",
    "df_sd_pd_resp = df_sd_pd_resp.assign(address = df_sd_pd_resp['incident_num'])\n",
    "\n",
    "# drop columns that we don't need\n",
    "df_sd_pd_resp = df_sd_pd_resp.drop(columns = ['incident_num', 'date_time', 'day_of_week', 'address_dir_intersecting', 'address_road_intersecting', 'address_sfx_intersecting', 'call_type', 'disposition', 'beat'])\n",
    "\n",
    "# drop lower priority police calls\n",
    "indexNum = df_sd_pd_resp[df_sd_pd_resp['priority'] > 1].index\n",
    "df_sd_pd_resp.drop(indexNum, inplace = True)\n",
    "\n",
    "# drop rows with not enough information to determine the location\n",
    "indexNum = df_sd_pd_resp[df_sd_pd_resp['address_number_primary'] == 0].index\n",
    "df_sd_pd_resp.drop(indexNum, inplace = True)\n",
    "\n",
    "indexNum = df_sd_pd_resp[df_sd_pd_resp['address_sfx_primary'] != df_sd_pd_resp['address_sfx_primary']].index\n",
    "df_sd_pd_resp.drop(indexNum, inplace = True)"
   ]
  },
  {
   "cell_type": "markdown",
   "metadata": {},
   "source": [
    "In this cell, I performed some string manipulations to concatenate different columns in the police report and come up with a single string that has the information required to accurately describe the location of an address. "
   ]
  },
  {
   "cell_type": "code",
   "execution_count": 7,
   "metadata": {},
   "outputs": [
    {
     "name": "stderr",
     "output_type": "stream",
     "text": [
      "/opt/conda/lib/python3.7/site-packages/ipykernel_launcher.py:38: FutureWarning: \n",
      ".ix is deprecated. Please use\n",
      ".loc for label based indexing or\n",
      ".iloc for positional indexing\n",
      "\n",
      "See the documentation here:\n",
      "http://pandas.pydata.org/pandas-docs/stable/user_guide/indexing.html#ix-indexer-is-deprecated\n"
     ]
    }
   ],
   "source": [
    "# Perform string manipulation to get a single address from different columns in the police report\n",
    "\n",
    "for ind in df_sd_pd_resp.index: #REMEMBER TO CHANGE LATER\n",
    "    \n",
    "    output=''\n",
    "    \n",
    "    # add the street number if it is not 0\n",
    "    if df_sd_pd_resp['address_number_primary'][ind] == 0:\n",
    "        pass\n",
    "    else:\n",
    "        output += str(df_sd_pd_resp['address_number_primary'][ind])\n",
    "        output += ' '\n",
    "    \n",
    "    # add the street prefix (south, north, etc) if they are not NaN\n",
    "    if df_sd_pd_resp['address_dir_primary'][ind] != df_sd_pd_resp['address_dir_primary'][ind]: \n",
    "        pass\n",
    "    else: \n",
    "        output += str(df_sd_pd_resp['address_dir_primary'][ind])\n",
    "        output += ' '\n",
    "    \n",
    "    # add the street name (e.g. Gilman) if they are not null\n",
    "    if df_sd_pd_resp['address_road_primary'][ind] != df_sd_pd_resp['address_road_primary'][ind]: \n",
    "        pass\n",
    "    else: \n",
    "        output += str(df_sd_pd_resp['address_road_primary'][ind])\n",
    "        output += ' '\n",
    "    \n",
    "    # add the street subfix (e.g. Ave, St, Pl) if they are not null\n",
    "    if df_sd_pd_resp['address_sfx_primary'][ind] != df_sd_pd_resp['address_sfx_primary'][ind]:\n",
    "        pass\n",
    "    else: \n",
    "        output += str(df_sd_pd_resp['address_sfx_primary'][ind])\n",
    "    \n",
    "    # add San Diego, US to avoid getting geolocations that are very far off\n",
    "    output += \", San Diego, US\"\n",
    "        \n",
    "    # setting the address column of the current row to be output\n",
    "    df_sd_pd_resp.ix[ind, 'address'] = output"
   ]
  },
  {
   "cell_type": "code",
   "execution_count": 8,
   "metadata": {},
   "outputs": [],
   "source": [
    "# Generate a new column in the police response to store the geocode that we will generate later\n",
    "df_sd_pd_resp = df_sd_pd_resp.assign(geocode = df_sd_pd_resp['address'])\n",
    "\n",
    "# due to the limitation of computing power, I do not have the resources to perform analysis on all observations (as I have \n",
    "# mentioned in a Piazza post)\n",
    "df_sdpd_rand = df_sd_pd_resp.sample(n=8000)"
   ]
  },
  {
   "cell_type": "markdown",
   "metadata": {},
   "source": [
    "In the following cell, I will first create two new columns to store latitude and longitude data (default being -1.0). Then I will use the Nominatim service to generate geocode data (latitude and longitude) from a string of address and store them back to the new columns I created. "
   ]
  },
  {
   "cell_type": "code",
   "execution_count": 9,
   "metadata": {
    "scrolled": false
   },
   "outputs": [
    {
     "name": "stderr",
     "output_type": "stream",
     "text": [
      "/opt/conda/lib/python3.7/site-packages/ipykernel_launcher.py:6: FutureWarning: \n",
      ".ix is deprecated. Please use\n",
      ".loc for label based indexing or\n",
      ".iloc for positional indexing\n",
      "\n",
      "See the documentation here:\n",
      "http://pandas.pydata.org/pandas-docs/stable/user_guide/indexing.html#ix-indexer-is-deprecated\n",
      "  \n",
      "/opt/conda/lib/python3.7/site-packages/ipykernel_launcher.py:9: SettingWithCopyWarning: \n",
      "A value is trying to be set on a copy of a slice from a DataFrame\n",
      "\n",
      "See the caveats in the documentation: http://pandas.pydata.org/pandas-docs/stable/user_guide/indexing.html#returning-a-view-versus-a-copy\n",
      "  if __name__ == '__main__':\n",
      "/opt/conda/lib/python3.7/site-packages/ipykernel_launcher.py:10: SettingWithCopyWarning: \n",
      "A value is trying to be set on a copy of a slice from a DataFrame\n",
      "\n",
      "See the caveats in the documentation: http://pandas.pydata.org/pandas-docs/stable/user_guide/indexing.html#returning-a-view-versus-a-copy\n",
      "  # Remove the CWD from sys.path while we load stuff.\n",
      "/opt/conda/lib/python3.7/site-packages/ipykernel_launcher.py:11: SettingWithCopyWarning: \n",
      "A value is trying to be set on a copy of a slice from a DataFrame\n",
      "\n",
      "See the caveats in the documentation: http://pandas.pydata.org/pandas-docs/stable/user_guide/indexing.html#returning-a-view-versus-a-copy\n",
      "  # This is added back by InteractiveShellApp.init_path()\n"
     ]
    }
   ],
   "source": [
    "df_sdpd_rand = df_sdpd_rand.assign(latitude = -1.0)\n",
    "df_sdpd_rand = df_sdpd_rand.assign(longitude = -1.0)\n",
    "\n",
    "for ind in df_sdpd_rand.index:   \n",
    "    geolocator = Nominatim(user_agent=\"COGS 108 Proj\")\n",
    "    location = geolocator.geocode(df_sdpd_rand.ix[ind, 'address'])\n",
    "    \n",
    "    if (hasattr(location, 'longitude') and hasattr(location, 'longitude')):    \n",
    "        df_sdpd_rand['geocode'][ind] = location\n",
    "        df_sdpd_rand['latitude'][ind] = location.latitude\n",
    "        df_sdpd_rand['longitude'][ind] = location.longitude   \n",
    "    else:    \n",
    "        pass\n"
   ]
  },
  {
   "cell_type": "markdown",
   "metadata": {},
   "source": [
    "In the following cell, I drop the rows that are unable to generate a geocode that make sense or at all. "
   ]
  },
  {
   "cell_type": "code",
   "execution_count": 10,
   "metadata": {},
   "outputs": [
    {
     "data": {
      "text/html": [
       "<div>\n",
       "<style scoped>\n",
       "    .dataframe tbody tr th:only-of-type {\n",
       "        vertical-align: middle;\n",
       "    }\n",
       "\n",
       "    .dataframe tbody tr th {\n",
       "        vertical-align: top;\n",
       "    }\n",
       "\n",
       "    .dataframe thead th {\n",
       "        text-align: right;\n",
       "    }\n",
       "</style>\n",
       "<table border=\"1\" class=\"dataframe\">\n",
       "  <thead>\n",
       "    <tr style=\"text-align: right;\">\n",
       "      <th></th>\n",
       "      <th>address_number_primary</th>\n",
       "      <th>address_dir_primary</th>\n",
       "      <th>address_road_primary</th>\n",
       "      <th>address_sfx_primary</th>\n",
       "      <th>priority</th>\n",
       "      <th>address</th>\n",
       "      <th>geocode</th>\n",
       "      <th>latitude</th>\n",
       "      <th>longitude</th>\n",
       "    </tr>\n",
       "  </thead>\n",
       "  <tbody>\n",
       "    <tr>\n",
       "      <th>50860</th>\n",
       "      <td>3900</td>\n",
       "      <td>NaN</td>\n",
       "      <td>BATEMAN</td>\n",
       "      <td>AVE</td>\n",
       "      <td>0</td>\n",
       "      <td>3900 BATEMAN AVE, San Diego, US</td>\n",
       "      <td>(Bateman Avenue, Otay Mesa West, San Diego, Sa...</td>\n",
       "      <td>32.577412</td>\n",
       "      <td>-117.048828</td>\n",
       "    </tr>\n",
       "    <tr>\n",
       "      <th>214253</th>\n",
       "      <td>9400</td>\n",
       "      <td>NaN</td>\n",
       "      <td>AERO</td>\n",
       "      <td>DR</td>\n",
       "      <td>1</td>\n",
       "      <td>9400 AERO DR, San Diego, US</td>\n",
       "      <td>(Aero Drive, San Diego, San Diego County, Cali...</td>\n",
       "      <td>32.809105</td>\n",
       "      <td>-117.117656</td>\n",
       "    </tr>\n",
       "    <tr>\n",
       "      <th>16074</th>\n",
       "      <td>10000</td>\n",
       "      <td>NaN</td>\n",
       "      <td>BORDELON</td>\n",
       "      <td>ST</td>\n",
       "      <td>1</td>\n",
       "      <td>10000 BORDELON ST, San Diego, US</td>\n",
       "      <td>(Bordelon Street, San Diego, San Diego County,...</td>\n",
       "      <td>32.813721</td>\n",
       "      <td>-117.108231</td>\n",
       "    </tr>\n",
       "    <tr>\n",
       "      <th>298963</th>\n",
       "      <td>600</td>\n",
       "      <td>NaN</td>\n",
       "      <td>COCHRAN</td>\n",
       "      <td>AVE</td>\n",
       "      <td>1</td>\n",
       "      <td>600 COCHRAN AVE, San Diego, US</td>\n",
       "      <td>(Cochran Avenue, San Diego, San Diego County, ...</td>\n",
       "      <td>32.585285</td>\n",
       "      <td>-117.058899</td>\n",
       "    </tr>\n",
       "    <tr>\n",
       "      <th>139084</th>\n",
       "      <td>3300</td>\n",
       "      <td>NaN</td>\n",
       "      <td>WICOPEE</td>\n",
       "      <td>PL</td>\n",
       "      <td>0</td>\n",
       "      <td>3300 WICOPEE PL, San Diego, US</td>\n",
       "      <td>(Wicopee Place, San Diego, San Diego County, C...</td>\n",
       "      <td>32.816338</td>\n",
       "      <td>-117.211693</td>\n",
       "    </tr>\n",
       "  </tbody>\n",
       "</table>\n",
       "</div>"
      ],
      "text/plain": [
       "        address_number_primary address_dir_primary address_road_primary  \\\n",
       "50860                     3900                 NaN              BATEMAN   \n",
       "214253                    9400                 NaN                 AERO   \n",
       "16074                    10000                 NaN             BORDELON   \n",
       "298963                     600                 NaN              COCHRAN   \n",
       "139084                    3300                 NaN              WICOPEE   \n",
       "\n",
       "       address_sfx_primary  priority                           address  \\\n",
       "50860                  AVE         0   3900 BATEMAN AVE, San Diego, US   \n",
       "214253                  DR         1       9400 AERO DR, San Diego, US   \n",
       "16074                   ST         1  10000 BORDELON ST, San Diego, US   \n",
       "298963                 AVE         1    600 COCHRAN AVE, San Diego, US   \n",
       "139084                  PL         0    3300 WICOPEE PL, San Diego, US   \n",
       "\n",
       "                                                  geocode   latitude  \\\n",
       "50860   (Bateman Avenue, Otay Mesa West, San Diego, Sa...  32.577412   \n",
       "214253  (Aero Drive, San Diego, San Diego County, Cali...  32.809105   \n",
       "16074   (Bordelon Street, San Diego, San Diego County,...  32.813721   \n",
       "298963  (Cochran Avenue, San Diego, San Diego County, ...  32.585285   \n",
       "139084  (Wicopee Place, San Diego, San Diego County, C...  32.816338   \n",
       "\n",
       "         longitude  \n",
       "50860  -117.048828  \n",
       "214253 -117.117656  \n",
       "16074  -117.108231  \n",
       "298963 -117.058899  \n",
       "139084 -117.211693  "
      ]
     },
     "execution_count": 10,
     "metadata": {},
     "output_type": "execute_result"
    }
   ],
   "source": [
    "# lastly, we drop the rows whose latitude or longitude is -1 (cant find address)\n",
    "indexNum = df_sdpd_rand[df_sdpd_rand['latitude'] == -1].index\n",
    "df_sdpd_rand.drop(indexNum, inplace = True)\n",
    "indexNum = df_sdpd_rand[df_sdpd_rand['longitude'] == -1].index\n",
    "df_sdpd_rand.drop(indexNum, inplace = True)\n",
    "indexNum = df_sdpd_rand[df_sdpd_rand['longitude'] >= -117].index\n",
    "df_sdpd_rand.drop(indexNum, inplace = True)\n",
    "\n",
    "df_sdpd_rand.head()"
   ]
  },
  {
   "cell_type": "markdown",
   "metadata": {},
   "source": [
    "In the follow cell, I will plot the location of the Priority E and 1 crimes and parks in the San Diego area. "
   ]
  },
  {
   "cell_type": "code",
   "execution_count": 11,
   "metadata": {},
   "outputs": [
    {
     "data": {
      "text/plain": [
       "Text(170.43749892811908, 0.5, 'latitude')"
      ]
     },
     "execution_count": 11,
     "metadata": {},
     "output_type": "execute_result"
    },
    {
     "data": {
      "image/png": "[encoded data removed]",
      "text/plain": [
       "<Figure size 1080x1080 with 1 Axes>"
      ]
     },
     "metadata": {
      "needs_background": "light"
     },
     "output_type": "display_data"
    }
   ],
   "source": [
    "geometry = [Point(xy) for xy in zip(df_sdpd_rand['longitude'], df_sdpd_rand['latitude'])]\n",
    "geometry2 = [Point(xy) for xy in zip(df_sd_parks_review['longitude'], df_sd_parks_review['latitude'])]\n",
    "geometry[:3]\n",
    "geometry2[:3]\n",
    "\n",
    "crs = {'init' : 'epsg:4326'}\n",
    "\n",
    "geo_df = gpd.GeoDataFrame(df_sdpd_rand, crs=\"EPSG:4326\", geometry=geometry)\n",
    "geo_df2 = gpd.GeoDataFrame(df_sd_parks_review, crs=\"EPSG:4326\", geometry=geometry2)\n",
    "\n",
    "\n",
    "fig, ax = plt.subplots(figsize = (15,15))\n",
    "#sd_map.plot(ax = ax, alpha = 0.4, color=\"grey\")\n",
    "geo_df2.geometry.plot(marker='o', color = 'green', ax = ax, label = \"Parks\")\n",
    "geo_df[geo_df['priority'] == 0].plot(ax=ax, markersize = 8, color = \"blue\", marker = \"o\", label = \"Priority E\")\n",
    "geo_df[geo_df['priority'] == 1].plot(ax=ax, markersize = 8, color = \"red\", marker = \"o\", label = \"Priority 1\")\n",
    "plt.title(\"Parks and Major Crimes in San Diego Area\")\n",
    "plt.legend()\n",
    "plt.xlabel('longitude')\n",
    "plt.ylabel('latitude')"
   ]
  },
  {
   "cell_type": "markdown",
   "metadata": {},
   "source": [
    "In the following 2 cells, I will generate crime rate scores for each of the parks using 3 methods. In the first one (score_1), I will calculate a score for each park as a sum of the product of its distance with each of the crime locations and the priority. In this way, lower score means higher crime rate. "
   ]
  },
  {
   "cell_type": "code",
   "execution_count": 12,
   "metadata": {},
   "outputs": [
    {
     "name": "stderr",
     "output_type": "stream",
     "text": [
      "/opt/conda/lib/python3.7/site-packages/ipykernel_launcher.py:21: FutureWarning: \n",
      ".ix is deprecated. Please use\n",
      ".loc for label based indexing or\n",
      ".iloc for positional indexing\n",
      "\n",
      "See the documentation here:\n",
      "http://pandas.pydata.org/pandas-docs/stable/user_guide/indexing.html#ix-indexer-is-deprecated\n"
     ]
    }
   ],
   "source": [
    "E_Rad = 6373.0\n",
    "df_sd_parks_review = df_sd_parks_review.assign(score_1 = 0)\n",
    "\n",
    "# Calculate score based on priority and all crimes\n",
    "for ind1 in df_sd_parks_review.index:\n",
    "    score = 0\n",
    "    lat1 = math.radians(df_sd_parks_review['latitude'][ind1])\n",
    "    lon1 = math.radians(df_sd_parks_review['longitude'][ind1])\n",
    "    \n",
    "    for ind2 in df_sdpd_rand.index:\n",
    "        lat2 = math.radians(df_sdpd_rand['latitude'][ind2])\n",
    "        lon2 = math.radians(df_sdpd_rand['longitude'][ind2])\n",
    "        \n",
    "        dlon = lon2 - lon1\n",
    "        dlat = lat2 - lat1\n",
    "        \n",
    "        a = math.sin(dlat / 2)**2 + math.cos(lat1) * math.cos(lat2) * math.sin(dlon / 2)**2\n",
    "        c = 2 * math.atan2(math.sqrt(a), math.sqrt(1 - a))\n",
    "        score += E_Rad * c * df_sdpd_rand['priority'][ind2]\n",
    "    \n",
    "    df_sd_parks_review.ix[ind1, 'score_1'] = score\n",
    "        \n",
    "        "
   ]
  },
  {
   "cell_type": "markdown",
   "metadata": {},
   "source": [
    "In the second one (score_2), I will calculate a score for each park as a sum of the product of its distance with each of the crim locations and the priority that are within 0.5 kilometers radius from the park. This should eliminate the effect of farther away crimes on the scores. We default the score to be -0.01 (impossible to result from calculations) and will drop those columns later in analysis. "
   ]
  },
  {
   "cell_type": "code",
   "execution_count": 13,
   "metadata": {},
   "outputs": [
    {
     "name": "stderr",
     "output_type": "stream",
     "text": [
      "/opt/conda/lib/python3.7/site-packages/ipykernel_launcher.py:28: FutureWarning: \n",
      ".ix is deprecated. Please use\n",
      ".loc for label based indexing or\n",
      ".iloc for positional indexing\n",
      "\n",
      "See the documentation here:\n",
      "http://pandas.pydata.org/pandas-docs/stable/user_guide/indexing.html#ix-indexer-is-deprecated\n"
     ]
    }
   ],
   "source": [
    "# Calculate score based on crimes within a 1km diameter circle\n",
    "df_sd_parks_review = df_sd_parks_review.assign(score_2 = 0)\n",
    "rad = 0.5\n",
    "E_Rad = 6373.0\n",
    "\n",
    "for ind1 in df_sd_parks_review.index:\n",
    "    score = -0.01\n",
    "    lat1 = math.radians(df_sd_parks_review['latitude'][ind1])\n",
    "    lon1 = math.radians(df_sd_parks_review['longitude'][ind1])\n",
    "    \n",
    "    park_loc = Point(df_sd_parks_review['latitude'][ind1],df_sd_parks_review['longitude'][ind1])\n",
    "    for ind2 in df_sdpd_rand.index:\n",
    "        lat2 = math.radians(df_sdpd_rand['latitude'][ind2])\n",
    "        lon2 = math.radians(df_sdpd_rand['longitude'][ind2])\n",
    "        \n",
    "        dlon = lon2 - lon1\n",
    "        dlat = lat2 - lat1\n",
    "        \n",
    "        a = math.sin(dlat / 2.0)**2.0 + math.cos(lat1) * math.cos(lat2) * math.sin(dlon / 2.0)**2.0\n",
    "        c = 2.0 * math.atan2(math.sqrt(a), math.sqrt(1 - a))\n",
    "        distance = E_Rad * c\n",
    "            \n",
    "        if distance <= rad:\n",
    "            score += distance * df_sdpd_rand['priority'][ind2]\n",
    "        else: \n",
    "            pass\n",
    "        \n",
    "    df_sd_parks_review.ix[ind1, 'score_2'] = score"
   ]
  },
  {
   "cell_type": "markdown",
   "metadata": {},
   "source": [
    "In the third one (score_3), I will calculate a score for each park as a sum of the product of its distance with each of the crim locations and the priority that are within 0.5 kilometers radius from the park. This should eliminate the effect of farther away crimes on the scores. Unlike score_2, score_3 will be adjusted according to the distance squared (like GRAVITY!!!). We default the score to be -0.01 (impossible to result from calculations) and will drop those columns later in analysis."
   ]
  },
  {
   "cell_type": "code",
   "execution_count": 14,
   "metadata": {},
   "outputs": [
    {
     "name": "stderr",
     "output_type": "stream",
     "text": [
      "/opt/conda/lib/python3.7/site-packages/ipykernel_launcher.py:28: FutureWarning: \n",
      ".ix is deprecated. Please use\n",
      ".loc for label based indexing or\n",
      ".iloc for positional indexing\n",
      "\n",
      "See the documentation here:\n",
      "http://pandas.pydata.org/pandas-docs/stable/user_guide/indexing.html#ix-indexer-is-deprecated\n"
     ]
    }
   ],
   "source": [
    "# Calculate score based on crimes within a 1km diameter circle with priority decreasing as the square of the distance\n",
    "df_sd_parks_review = df_sd_parks_review.assign(score_3 = 0)\n",
    "rad = 0.5\n",
    "E_Rad = 6373.0\n",
    "\n",
    "for ind1 in df_sd_parks_review.index:\n",
    "    score = -0.01\n",
    "    lat1 = math.radians(df_sd_parks_review['latitude'][ind1])\n",
    "    lon1 = math.radians(df_sd_parks_review['longitude'][ind1])\n",
    "    \n",
    "    park_loc = Point(df_sd_parks_review['latitude'][ind1],df_sd_parks_review['longitude'][ind1])\n",
    "    for ind2 in df_sdpd_rand.index:\n",
    "        lat2 = math.radians(df_sdpd_rand['latitude'][ind2])\n",
    "        lon2 = math.radians(df_sdpd_rand['longitude'][ind2])\n",
    "        \n",
    "        dlon = lon2 - lon1\n",
    "        dlat = lat2 - lat1\n",
    "        \n",
    "        a = math.sin(dlat / 2.0)**2.0 + math.cos(lat1) * math.cos(lat2) * math.sin(dlon / 2.0)**2.0\n",
    "        c = 2.0 * math.atan2(math.sqrt(a), math.sqrt(1 - a))\n",
    "        distance = E_Rad * c\n",
    "            \n",
    "        if distance <= rad:\n",
    "            score += distance * distance * df_sdpd_rand['priority'][ind2]\n",
    "        else: \n",
    "            pass\n",
    "        \n",
    "    df_sd_parks_review.ix[ind1, 'score_3'] = score"
   ]
  },
  {
   "cell_type": "markdown",
   "metadata": {},
   "source": [
    "In the following cell, I will make a separate dataframe which excluded the points that have no crime in the 0.5 km area around it so these do not skew our data. "
   ]
  },
  {
   "cell_type": "code",
   "execution_count": 15,
   "metadata": {},
   "outputs": [
    {
     "data": {
      "text/html": [
       "<div>\n",
       "<style scoped>\n",
       "    .dataframe tbody tr th:only-of-type {\n",
       "        vertical-align: middle;\n",
       "    }\n",
       "\n",
       "    .dataframe tbody tr th {\n",
       "        vertical-align: top;\n",
       "    }\n",
       "\n",
       "    .dataframe thead th {\n",
       "        text-align: right;\n",
       "    }\n",
       "</style>\n",
       "<table border=\"1\" class=\"dataframe\">\n",
       "  <thead>\n",
       "    <tr style=\"text-align: right;\">\n",
       "      <th></th>\n",
       "      <th>name</th>\n",
       "      <th>address</th>\n",
       "      <th>rating</th>\n",
       "      <th>review_count</th>\n",
       "      <th>longitude</th>\n",
       "      <th>latitude</th>\n",
       "      <th>geometry</th>\n",
       "      <th>score_1</th>\n",
       "      <th>score_2</th>\n",
       "      <th>score_3</th>\n",
       "    </tr>\n",
       "  </thead>\n",
       "  <tbody>\n",
       "    <tr>\n",
       "      <th>0</th>\n",
       "      <td>Balboa Park</td>\n",
       "      <td>1549 El Prado San Diego, CA 92101</td>\n",
       "      <td>5.0</td>\n",
       "      <td>2105</td>\n",
       "      <td>-117.153150</td>\n",
       "      <td>32.734502</td>\n",
       "      <td>POINT (-117.15315 32.73450)</td>\n",
       "      <td>61016.290384</td>\n",
       "      <td>0.413502</td>\n",
       "      <td>0.169354</td>\n",
       "    </tr>\n",
       "    <tr>\n",
       "      <th>1</th>\n",
       "      <td>Civita Park</td>\n",
       "      <td>7960 Civita Blvd San Diego, CA 92108</td>\n",
       "      <td>4.5</td>\n",
       "      <td>46</td>\n",
       "      <td>-117.147278</td>\n",
       "      <td>32.778315</td>\n",
       "      <td>POINT (-117.14728 32.77831)</td>\n",
       "      <td>60853.334927</td>\n",
       "      <td>5.363585</td>\n",
       "      <td>2.405990</td>\n",
       "    </tr>\n",
       "    <tr>\n",
       "      <th>2</th>\n",
       "      <td>Waterfront Park</td>\n",
       "      <td>1600 Pacific Hwy San Diego, CA 92101</td>\n",
       "      <td>4.5</td>\n",
       "      <td>242</td>\n",
       "      <td>-117.172479</td>\n",
       "      <td>32.721952</td>\n",
       "      <td>POINT (-117.17248 32.72195)</td>\n",
       "      <td>66079.701093</td>\n",
       "      <td>2.137766</td>\n",
       "      <td>0.792201</td>\n",
       "    </tr>\n",
       "    <tr>\n",
       "      <th>3</th>\n",
       "      <td>Trolley Barn Park</td>\n",
       "      <td>Adams Ave And Florida St San Diego, CA 92116</td>\n",
       "      <td>4.5</td>\n",
       "      <td>102</td>\n",
       "      <td>-117.143789</td>\n",
       "      <td>32.762463</td>\n",
       "      <td>POINT (-117.14379 32.76246)</td>\n",
       "      <td>59188.213435</td>\n",
       "      <td>0.490161</td>\n",
       "      <td>0.073387</td>\n",
       "    </tr>\n",
       "    <tr>\n",
       "      <th>5</th>\n",
       "      <td>Centrum Park</td>\n",
       "      <td>8578 Lightwave Ave San Diego, CA 92123</td>\n",
       "      <td>3.5</td>\n",
       "      <td>22</td>\n",
       "      <td>-117.138397</td>\n",
       "      <td>32.828037</td>\n",
       "      <td>POINT (-117.13840 32.82804)</td>\n",
       "      <td>73893.924112</td>\n",
       "      <td>2.352769</td>\n",
       "      <td>0.600311</td>\n",
       "    </tr>\n",
       "    <tr>\n",
       "      <th>...</th>\n",
       "      <td>...</td>\n",
       "      <td>...</td>\n",
       "      <td>...</td>\n",
       "      <td>...</td>\n",
       "      <td>...</td>\n",
       "      <td>...</td>\n",
       "      <td>...</td>\n",
       "      <td>...</td>\n",
       "      <td>...</td>\n",
       "      <td>...</td>\n",
       "    </tr>\n",
       "    <tr>\n",
       "      <th>818</th>\n",
       "      <td>The Cottage La Jolla</td>\n",
       "      <td>7702 Fay Ave La Jolla, CA 92037</td>\n",
       "      <td>4.0</td>\n",
       "      <td>4211</td>\n",
       "      <td>-117.274957</td>\n",
       "      <td>32.843422</td>\n",
       "      <td>POINT (-117.27496 32.84342)</td>\n",
       "      <td>107575.925516</td>\n",
       "      <td>15.039988</td>\n",
       "      <td>5.908432</td>\n",
       "    </tr>\n",
       "    <tr>\n",
       "      <th>819</th>\n",
       "      <td>Brockton Villa Restaurant</td>\n",
       "      <td>1235 Coast Blvd La Jolla, CA 92037</td>\n",
       "      <td>4.0</td>\n",
       "      <td>1749</td>\n",
       "      <td>-117.271558</td>\n",
       "      <td>32.849777</td>\n",
       "      <td>POINT (-117.27156 32.84978)</td>\n",
       "      <td>108224.952319</td>\n",
       "      <td>1.570587</td>\n",
       "      <td>0.376360</td>\n",
       "    </tr>\n",
       "    <tr>\n",
       "      <th>822</th>\n",
       "      <td>Capehart Dog Park</td>\n",
       "      <td>4747 Soledad Mountain Rd San Diego, CA 92109</td>\n",
       "      <td>3.0</td>\n",
       "      <td>85</td>\n",
       "      <td>-117.225335</td>\n",
       "      <td>32.807007</td>\n",
       "      <td>POINT (-117.22533 32.80701)</td>\n",
       "      <td>80255.086142</td>\n",
       "      <td>14.190472</td>\n",
       "      <td>4.088440</td>\n",
       "    </tr>\n",
       "    <tr>\n",
       "      <th>829</th>\n",
       "      <td>San Diego Metropolitan Transit System</td>\n",
       "      <td>1255 Imperial Ave Ste 1000 San Diego, CA 92101</td>\n",
       "      <td>2.5</td>\n",
       "      <td>268</td>\n",
       "      <td>-117.153400</td>\n",
       "      <td>32.705760</td>\n",
       "      <td>POINT (-117.15340 32.70576)</td>\n",
       "      <td>67869.559286</td>\n",
       "      <td>34.225871</td>\n",
       "      <td>14.166824</td>\n",
       "    </tr>\n",
       "    <tr>\n",
       "      <th>830</th>\n",
       "      <td>Petco Park</td>\n",
       "      <td>100 Park Blvd San Diego, CA 92101</td>\n",
       "      <td>4.0</td>\n",
       "      <td>1667</td>\n",
       "      <td>-117.157054</td>\n",
       "      <td>32.707246</td>\n",
       "      <td>POINT (-117.15705 32.70725)</td>\n",
       "      <td>67762.990518</td>\n",
       "      <td>36.441518</td>\n",
       "      <td>13.251613</td>\n",
       "    </tr>\n",
       "  </tbody>\n",
       "</table>\n",
       "<p>280 rows × 10 columns</p>\n",
       "</div>"
      ],
      "text/plain": [
       "                                      name  \\\n",
       "0                              Balboa Park   \n",
       "1                              Civita Park   \n",
       "2                          Waterfront Park   \n",
       "3                        Trolley Barn Park   \n",
       "5                             Centrum Park   \n",
       "..                                     ...   \n",
       "818                   The Cottage La Jolla   \n",
       "819              Brockton Villa Restaurant   \n",
       "822                      Capehart Dog Park   \n",
       "829  San Diego Metropolitan Transit System   \n",
       "830                             Petco Park   \n",
       "\n",
       "                                            address  rating  review_count  \\\n",
       "0                 1549 El Prado San Diego, CA 92101     5.0          2105   \n",
       "1              7960 Civita Blvd San Diego, CA 92108     4.5            46   \n",
       "2              1600 Pacific Hwy San Diego, CA 92101     4.5           242   \n",
       "3      Adams Ave And Florida St San Diego, CA 92116     4.5           102   \n",
       "5            8578 Lightwave Ave San Diego, CA 92123     3.5            22   \n",
       "..                                              ...     ...           ...   \n",
       "818                 7702 Fay Ave La Jolla, CA 92037     4.0          4211   \n",
       "819              1235 Coast Blvd La Jolla, CA 92037     4.0          1749   \n",
       "822    4747 Soledad Mountain Rd San Diego, CA 92109     3.0            85   \n",
       "829  1255 Imperial Ave Ste 1000 San Diego, CA 92101     2.5           268   \n",
       "830               100 Park Blvd San Diego, CA 92101     4.0          1667   \n",
       "\n",
       "      longitude   latitude                     geometry        score_1  \\\n",
       "0   -117.153150  32.734502  POINT (-117.15315 32.73450)   61016.290384   \n",
       "1   -117.147278  32.778315  POINT (-117.14728 32.77831)   60853.334927   \n",
       "2   -117.172479  32.721952  POINT (-117.17248 32.72195)   66079.701093   \n",
       "3   -117.143789  32.762463  POINT (-117.14379 32.76246)   59188.213435   \n",
       "5   -117.138397  32.828037  POINT (-117.13840 32.82804)   73893.924112   \n",
       "..          ...        ...                          ...            ...   \n",
       "818 -117.274957  32.843422  POINT (-117.27496 32.84342)  107575.925516   \n",
       "819 -117.271558  32.849777  POINT (-117.27156 32.84978)  108224.952319   \n",
       "822 -117.225335  32.807007  POINT (-117.22533 32.80701)   80255.086142   \n",
       "829 -117.153400  32.705760  POINT (-117.15340 32.70576)   67869.559286   \n",
       "830 -117.157054  32.707246  POINT (-117.15705 32.70725)   67762.990518   \n",
       "\n",
       "       score_2    score_3  \n",
       "0     0.413502   0.169354  \n",
       "1     5.363585   2.405990  \n",
       "2     2.137766   0.792201  \n",
       "3     0.490161   0.073387  \n",
       "5     2.352769   0.600311  \n",
       "..         ...        ...  \n",
       "818  15.039988   5.908432  \n",
       "819   1.570587   0.376360  \n",
       "822  14.190472   4.088440  \n",
       "829  34.225871  14.166824  \n",
       "830  36.441518  13.251613  \n",
       "\n",
       "[280 rows x 10 columns]"
      ]
     },
     "execution_count": 15,
     "metadata": {},
     "output_type": "execute_result"
    }
   ],
   "source": [
    "df_sd_parks_review_2 = df_sd_parks_review\n",
    "indexNum = df_sd_parks_review_2[df_sd_parks_review_2['score_2'] == -0.01].index\n",
    "df_sd_parks_review_2.drop(indexNum, inplace = True)\n",
    "df_sd_parks_review_2"
   ]
  },
  {
   "cell_type": "markdown",
   "metadata": {},
   "source": [
    "# Data Analysis & Results"
   ]
  },
  {
   "cell_type": "markdown",
   "metadata": {},
   "source": [
    "Now we have an longitude and latitude for each police response and each parks. Now, I will calculated a score for each park from the priority of the police call and the distance from all police response calls (priority * distance). Parks with a lower combined score indicate that there is higher crime rate in their area. "
   ]
  },
  {
   "cell_type": "markdown",
   "metadata": {},
   "source": [
    "First, let's make a scatter plot of the rating of parks (x-axis) versus scores of the parks (y-axis). "
   ]
  },
  {
   "cell_type": "code",
   "execution_count": 17,
   "metadata": {},
   "outputs": [
    {
     "data": {
      "text/plain": [
       "<seaborn.axisgrid.FacetGrid at 0x7efe2d7cd490>"
      ]
     },
     "execution_count": 17,
     "metadata": {},
     "output_type": "execute_result"
    },
    {
     "data": {
      "image/png": "[encoded data removed]",
      "text/plain": [
       "<Figure size 360x360 with 1 Axes>"
      ]
     },
     "metadata": {
      "needs_background": "light"
     },
     "output_type": "display_data"
    }
   ],
   "source": [
    "## YOUR CODE HERE\n",
    "## FEEL FREE TO ADD MULTIPLE CELLS PER SECTION\n",
    "sns.relplot(x = 'rating', y = 'score_1', data = df_sd_parks_review)"
   ]
  },
  {
   "cell_type": "markdown",
   "metadata": {},
   "source": [
    "Then, we perform a OSL Regression test on the dataset to find the correlation of the dataset."
   ]
  },
  {
   "cell_type": "code",
   "execution_count": 18,
   "metadata": {},
   "outputs": [
    {
     "name": "stdout",
     "output_type": "stream",
     "text": [
      "                            OLS Regression Results                            \n",
      "==============================================================================\n",
      "Dep. Variable:                 rating   R-squared:                       0.003\n",
      "Model:                            OLS   Adj. R-squared:                 -0.000\n",
      "Method:                 Least Squares   F-statistic:                    0.9568\n",
      "Date:                Wed, 16 Dec 2020   Prob (F-statistic):              0.329\n",
      "Time:                        17:28:17   Log-Likelihood:                -282.06\n",
      "No. Observations:                 280   AIC:                             568.1\n",
      "Df Residuals:                     278   BIC:                             575.4\n",
      "Df Model:                           1                                         \n",
      "Covariance Type:            nonrobust                                         \n",
      "==============================================================================\n",
      "                 coef    std err          t      P>|t|      [0.025      0.975]\n",
      "------------------------------------------------------------------------------\n",
      "Intercept      4.0613      0.109     37.419      0.000       3.848       4.275\n",
      "score_1    -1.249e-06   1.28e-06     -0.978      0.329   -3.76e-06    1.26e-06\n",
      "==============================================================================\n",
      "Omnibus:                       41.196   Durbin-Watson:                   1.341\n",
      "Prob(Omnibus):                  0.000   Jarque-Bera (JB):               57.357\n",
      "Skew:                          -0.948   Prob(JB):                     3.51e-13\n",
      "Kurtosis:                       4.151   Cond. No.                     2.32e+05\n",
      "==============================================================================\n",
      "\n",
      "Warnings:\n",
      "[1] Standard Errors assume that the covariance matrix of the errors is correctly specified.\n",
      "[2] The condition number is large, 2.32e+05. This might indicate that there are\n",
      "strong multicollinearity or other numerical problems.\n"
     ]
    }
   ],
   "source": [
    "outcome1, predictors1 = patsy.dmatrices('rating ~ score_1', df_sd_parks_review)\n",
    "\n",
    "mod1 = sm.OLS(outcome1, predictors1)\n",
    "## fit the model\n",
    "res1 = mod1.fit()\n",
    "\n",
    "## look at the results\n",
    "print(res1.summary())"
   ]
  },
  {
   "cell_type": "markdown",
   "metadata": {},
   "source": [
    "We can see that in this model, the crime rate around a park does not explain its review on Yelp very well, as it only has a 0.003 R-Squared value, meaning that only 0.1 percent of all variance in the dependent variable (Yelp review) can be explained by the independent variable (crime rate). "
   ]
  },
  {
   "cell_type": "markdown",
   "metadata": {},
   "source": [
    "Now, let's try plotting and analyzing the second model. "
   ]
  },
  {
   "cell_type": "code",
   "execution_count": 19,
   "metadata": {},
   "outputs": [
    {
     "data": {
      "text/plain": [
       "<seaborn.axisgrid.FacetGrid at 0x7efe2fd6e050>"
      ]
     },
     "execution_count": 19,
     "metadata": {},
     "output_type": "execute_result"
    },
    {
     "data": {
      "image/png": "[encoded data removed]",
      "text/plain": [
       "<Figure size 360x360 with 1 Axes>"
      ]
     },
     "metadata": {
      "needs_background": "light"
     },
     "output_type": "display_data"
    }
   ],
   "source": [
    "sns.relplot(x = 'rating', y = 'score_2', data = df_sd_parks_review_2)"
   ]
  },
  {
   "cell_type": "markdown",
   "metadata": {},
   "source": [
    "The above scatterplot is the rating of the parks (x-axis) versus the crime rate in that area as modeled by the third model. Again, we see no clear trend in crime rate as the rating of parks get higher and that there are quite a few outliers with an extremely high score. "
   ]
  },
  {
   "cell_type": "code",
   "execution_count": 20,
   "metadata": {},
   "outputs": [
    {
     "name": "stdout",
     "output_type": "stream",
     "text": [
      "                            OLS Regression Results                            \n",
      "==============================================================================\n",
      "Dep. Variable:                 rating   R-squared:                       0.029\n",
      "Model:                            OLS   Adj. R-squared:                  0.026\n",
      "Method:                 Least Squares   F-statistic:                     8.400\n",
      "Date:                Wed, 16 Dec 2020   Prob (F-statistic):            0.00405\n",
      "Time:                        17:28:17   Log-Likelihood:                -278.38\n",
      "No. Observations:                 280   AIC:                             560.8\n",
      "Df Residuals:                     278   BIC:                             568.0\n",
      "Df Model:                           1                                         \n",
      "Covariance Type:            nonrobust                                         \n",
      "==============================================================================\n",
      "                 coef    std err          t      P>|t|      [0.025      0.975]\n",
      "------------------------------------------------------------------------------\n",
      "Intercept      4.0391      0.047     85.412      0.000       3.946       4.132\n",
      "score_2       -0.0090      0.003     -2.898      0.004      -0.015      -0.003\n",
      "==============================================================================\n",
      "Omnibus:                       38.619   Durbin-Watson:                   1.359\n",
      "Prob(Omnibus):                  0.000   Jarque-Bera (JB):               51.849\n",
      "Skew:                          -0.922   Prob(JB):                     5.51e-12\n",
      "Kurtosis:                       4.021   Cond. No.                         18.5\n",
      "==============================================================================\n",
      "\n",
      "Warnings:\n",
      "[1] Standard Errors assume that the covariance matrix of the errors is correctly specified.\n"
     ]
    }
   ],
   "source": [
    "outcome2, predictors2 = patsy.dmatrices('rating ~ score_2', df_sd_parks_review_2)\n",
    "\n",
    "mod2 = sm.OLS(outcome2, predictors2)\n",
    "## fit the model\n",
    "res2 = mod2.fit()\n",
    "\n",
    "## look at the results\n",
    "print(res2.summary())"
   ]
  },
  {
   "cell_type": "markdown",
   "metadata": {},
   "source": [
    "We can see that this model accounts for the correlation between crime rate and Yelp review much better because it has a much higher R-Squared value of 0.029, which means that 2.9 percent of all variance in the dependent variable (Yelp review) can be accounted for by the independent variable (crime rate). "
   ]
  },
  {
   "cell_type": "markdown",
   "metadata": {},
   "source": [
    "Now, let's move on to the third model. "
   ]
  },
  {
   "cell_type": "code",
   "execution_count": 23,
   "metadata": {},
   "outputs": [
    {
     "data": {
      "text/plain": [
       "<seaborn.axisgrid.FacetGrid at 0x7efe413d2e90>"
      ]
     },
     "execution_count": 23,
     "metadata": {},
     "output_type": "execute_result"
    },
    {
     "data": {
      "image/png": "[encoded data removed]",
      "text/plain": [
       "<Figure size 360x360 with 1 Axes>"
      ]
     },
     "metadata": {
      "needs_background": "light"
     },
     "output_type": "display_data"
    }
   ],
   "source": [
    "sns.relplot(x = 'rating', y = 'score_3', data = df_sd_parks_review_2)"
   ]
  },
  {
   "cell_type": "markdown",
   "metadata": {},
   "source": [
    "The above scatterplot is the rating of the parks (x-axis) versus the crime rate in that area as modeled by the third model. Again, we see no clear trend in crime rate as the rating of parks get higher. "
   ]
  },
  {
   "cell_type": "code",
   "execution_count": 26,
   "metadata": {},
   "outputs": [
    {
     "name": "stdout",
     "output_type": "stream",
     "text": [
      "                            OLS Regression Results                            \n",
      "==============================================================================\n",
      "Dep. Variable:                 rating   R-squared:                       0.026\n",
      "Model:                            OLS   Adj. R-squared:                  0.022\n",
      "Method:                 Least Squares   F-statistic:                     7.308\n",
      "Date:                Wed, 16 Dec 2020   Prob (F-statistic):            0.00729\n",
      "Time:                        18:40:38   Log-Likelihood:                -278.91\n",
      "No. Observations:                 280   AIC:                             561.8\n",
      "Df Residuals:                     278   BIC:                             569.1\n",
      "Df Model:                           1                                         \n",
      "Covariance Type:            nonrobust                                         \n",
      "==============================================================================\n",
      "                 coef    std err          t      P>|t|      [0.025      0.975]\n",
      "------------------------------------------------------------------------------\n",
      "Intercept      4.0290      0.046     86.908      0.000       3.938       4.120\n",
      "score_3       -0.0207      0.008     -2.703      0.007      -0.036      -0.006\n",
      "==============================================================================\n",
      "Omnibus:                       38.896   Durbin-Watson:                   1.358\n",
      "Prob(Omnibus):                  0.000   Jarque-Bera (JB):               52.238\n",
      "Skew:                          -0.929   Prob(JB):                     4.54e-12\n",
      "Kurtosis:                       4.014   Cond. No.                         7.19\n",
      "==============================================================================\n",
      "\n",
      "Warnings:\n",
      "[1] Standard Errors assume that the covariance matrix of the errors is correctly specified.\n"
     ]
    }
   ],
   "source": [
    "outcome3, predictors3 = patsy.dmatrices('rating ~ score_3', df_sd_parks_review_2)\n",
    "\n",
    "mod3 = sm.OLS(outcome3, predictors3)\n",
    "## fit the model\n",
    "res3 = mod3.fit()\n",
    "\n",
    "## look at the results\n",
    "print(res3.summary())"
   ]
  },
  {
   "cell_type": "markdown",
   "metadata": {},
   "source": [
    "Surprisingly, this gives us a lower R-squared value than the second one. "
   ]
  },
  {
   "cell_type": "markdown",
   "metadata": {},
   "source": [
    "So, all in all, the best model I have generated is the second model. We have reached a p-value (P>|t|) of less than 0.05 for both the second and the third model, we can reject the null hypothesis that there is a relationship between crime rate around a park in San Diego area and its Yelp review in favor of the alternative hypothesis that there is no statistically significant relationship between crime rate in the surrounding area of the park in the San Diego area and its Yelp review. "
   ]
  },
  {
   "cell_type": "markdown",
   "metadata": {},
   "source": [
    "# Ethics & Privacy"
   ]
  },
  {
   "cell_type": "markdown",
   "metadata": {},
   "source": [
    "Privacy is not a huge concern in this study since all the data are not personally identifiable. The exact locations of the addresses of the police department calls will not be directly related to my analysis and I will only distance from where these calls are placed to the parks. The data I received are collected from San Diego municiple and county government are authorized for all public and education uses. The police report contains little to no bias because it collects all police reponses regardless of where the location is or who the caller is. The Yelp review dataset is made by taking the average of all Yelp review scores, which will average out all potential biases and represent the population without excluding a certain group. I do not identify any way my analysis could lead to problems in terms of data privacy anmd equitable impact as my analysis concluded that there is no statistically significant relationship between the variables. This does not provide incentive for the municiple or county government to distribute park resources more in favor of areas with lower crime rates in order to be better received by the general public. "
   ]
  },
  {
   "cell_type": "markdown",
   "metadata": {},
   "source": [
    "# Conclusion & Discussion"
   ]
  },
  {
   "cell_type": "markdown",
   "metadata": {},
   "source": [
    "I started the project with the question of whether there is a correlation between the crime rate in the park's surrounding area and how much the public like it. I decided to model public perception of the park by Yelp reviews that the park received and crime rate by the amount and priority of police reponses in its surrounding areas. I used two datasets, one containing each parks' review score and the other one containing all police reponses in the San Diego area in 2019. \n",
    "\n",
    "In my analysis, I proposed three models to approximate crime rate as a score for each of the parks and conducted a OLS Regression test for my results for each of the three models. The second model, which characterizes the crime rate as the sum of the distance between police responses times their priority in a circle around the park with a radius of 500 meters. All three of the OLS Regression tests resulted in a very low p-value or a extremely low correlation score, which led me to conclude that there is no statistically significant correlation between the crime rate in the area and the Yelp reviews received by a park in San Diego.\n",
    "\n",
    "There are certain limitations and additional considerations for this analysis. First of all, due to limited computation power, I was unable to use the entire police response dataset. The dataset has around 600,000 entries at the beginning. I removed all responses with lower priorities to make computation faster. In addition, from the reduced dataset of around 90,000 entries, I randomly sampled 8000 reponses to approximate all Priority E and 1 responses, which could lead to inaccuracy in the result. In addition, the data parsed from Yelp only have scores for parks on a 0.5 interval (e.g 4.5, 5.0, 3.5, etc). If I were able to calculate the exact score of the parks to several decimal points, that could potentially increase the accuracy of this analysis. \n",
    "\n",
    "This project shows that there is no statistical significant bias in the location of parks against areas with higher crime rates, communities which can benefit greatly from easy access to parks. The lack of correlation between crime rate in the area and public perception of the parks provide incentive for municiple and county government to be more unbiased in selecting location for the next parks. "
   ]
  }
 ],
 "metadata": {
  "kernelspec": {
   "display_name": "Python 3",
   "language": "python",
   "name": "python3"
  },
  "language_info": {
   "codemirror_mode": {
    "name": "ipython",
    "version": 3
   },
   "file_extension": ".py",
   "mimetype": "text/x-python",
   "name": "python",
   "nbconvert_exporter": "python",
   "pygments_lexer": "ipython3",
   "version": "3.7.6"
  }
 },
 "nbformat": 4,
 "nbformat_minor": 2
}
